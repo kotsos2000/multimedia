{
 "cells": [
  {
   "cell_type": "code",
   "execution_count": null,
   "id": "7da64ff4",
   "metadata": {},
   "outputs": [],
   "source": [
    "import numpy as np\n",
    "import scipy.fft as sp\n",
    "from scipy.sparse import coo_matrix\n",
    "import matplotlib.pyplot as plt\n",
    "from scipy.io.wavfile import read\n",
    "from scipy.io.wavfile import write\n",
    "from frame import *\n",
    "from nothing import *\n",
    "import time \n",
    " \n",
    "def coder0(wavin, h, M, N):\n",
    "    subwavinsTotal = wavin.shape[0] // (M * N)\n",
    "    Ytot = np.ndarray([N * subwavinsTotal, M])\n",
    "    H = make_mp3_analysisfb(h, M)\n",
    " \n",
    "    wavin = np.append(wavin, [0 for _ in range(512)])  # padded\n",
    "\n",
    " \n",
    "    for i in range(subwavinsTotal):\n",
    "        subwav = wavin[i * (M * N):i * M * N + M * (N - 1) + 512]\n",
    "        Y = tempY\n",
    "        ###############\n",
    "        Yc = donothing(Y)\n",
    "        Ytot[i * N:(i + 1) * N, :] = Yc\n",
    " \n",
    "    return Ytot"
   ]
  }
 ],
 "metadata": {
  "kernelspec": {
   "display_name": "Python 3 (ipykernel)",
   "language": "python",
   "name": "python3"
  },
  "language_info": {
   "codemirror_mode": {
    "name": "ipython",
    "version": 3
   },
   "file_extension": ".py",
   "mimetype": "text/x-python",
   "name": "python",
   "nbconvert_exporter": "python",
   "pygments_lexer": "ipython3",
   "version": "3.9.13"
  }
 },
 "nbformat": 4,
 "nbformat_minor": 5
}
